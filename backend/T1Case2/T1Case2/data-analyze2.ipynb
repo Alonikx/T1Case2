{
 "cells": [
  {
   "cell_type": "code",
   "execution_count": 13,
   "metadata": {},
   "outputs": [
    {
     "data": {
      "application/vnd.jupyter.widget-view+json": {
       "model_id": "f28487e2e3bc4b97aa1d099f78ccdd2d",
       "version_major": 2,
       "version_minor": 0
      },
      "text/plain": [
       "interactive(children=(FloatSlider(value=10.0, description='ширина', max=20.0, min=5.0, step=0.5), FloatSlider(…"
      ]
     },
     "metadata": {},
     "output_type": "display_data"
    },
    {
     "data": {
      "text/plain": [
       "<function __main__.plot_graph(ширина, высота, ширина_столбца, стиль, столбец)>"
      ]
     },
     "execution_count": 13,
     "metadata": {},
     "output_type": "execute_result"
    }
   ],
   "source": [
    "import pandas as pd\n",
    "import matplotlib.pyplot as plt\n",
    "from data_analyze import read_json\n",
    "from ipywidgets import interact, Dropdown, FloatSlider\n",
    "import numpy as np\n",
    "\n",
    "\n",
    "# Ваши данные\n",
    "col, val = read_json()\n",
    "df = pd.DataFrame(val, columns=col)\n",
    "\n",
    "# Указываем доступные столбцы для выбора\n",
    "доступные_столбцы = df.columns.tolist()\n",
    "\n",
    "def plot_graph(ширина, высота, ширина_столбца, стиль, столбец):\n",
    "    # Обновляем y_counts в зависимости от выбранного столбца\n",
    "    y_counts = df[столбец].value_counts()\n",
    "    x = y_counts.index\n",
    "    y = y_counts.values\n",
    "\n",
    "    plt.figure(figsize=(ширина, высота))\n",
    "\n",
    "    if стиль == 'Гистограмма':\n",
    "        plt.bar(x, y, width=ширина_столбца)\n",
    "    elif стиль == 'Линейный':\n",
    "        plt.plot(x, y, marker='o')\n",
    "    elif стиль == 'Столбчатая диаграмма':\n",
    "        plt.bar(x, y)\n",
    "    elif стиль == 'Круговая диаграмма':\n",
    "        # Генерируем случайные цвета для каждого сегмента\n",
    "        colors = np.random.rand(len(y), 4)  # 4 для RGBA\n",
    "        plt.pie(y, labels=x, colors=colors, autopct='%1.1f%%', startangle=140)\n",
    "    \n",
    "    plt.ylabel('Количество' if стиль != 'Круговая диаграмма' else '')\n",
    "    plt.title(f'График для столбца: {столбец}')\n",
    "    \n",
    "    if стиль != 'Круговая диаграмма':\n",
    "        plt.xticks(rotation=45)\n",
    "    \n",
    "    plt.tight_layout()\n",
    "    plt.show()\n",
    "\n",
    "interact(\n",
    "    plot_graph,\n",
    "    ширина=FloatSlider(value=10, min=5, max=20, step=0.5),\n",
    "    высота=FloatSlider(value=6, min=5, max=20, step=0.5),\n",
    "    ширина_столбца=FloatSlider(value=0.5, min=0.1, max=1, step=0.1),\n",
    "    стиль=Dropdown(options=['Гистограмма', 'Линейный', 'Столбчатая диаграмма', 'Круговая диаграмма'], value='Гистограмма'),\n",
    "    столбец=Dropdown(options=доступные_столбцы, value=доступные_столбцы[0])\n",
    ")\n"
   ]
  }
 ],
 "metadata": {
  "kernelspec": {
   "display_name": ".venv",
   "language": "python",
   "name": "python3"
  },
  "language_info": {
   "codemirror_mode": {
    "name": "ipython",
    "version": 3
   },
   "file_extension": ".py",
   "mimetype": "text/x-python",
   "name": "python",
   "nbconvert_exporter": "python",
   "pygments_lexer": "ipython3",
   "version": "3.12.3"
  }
 },
 "nbformat": 4,
 "nbformat_minor": 2
}
